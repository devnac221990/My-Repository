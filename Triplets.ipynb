{
  "nbformat": 4,
  "nbformat_minor": 0,
  "metadata": {
    "kernelspec": {
      "display_name": "Python 3",
      "language": "python",
      "name": "python3"
    },
    "language_info": {
      "codemirror_mode": {
        "name": "ipython",
        "version": 3
      },
      "file_extension": ".py",
      "mimetype": "text/x-python",
      "name": "python",
      "nbconvert_exporter": "python",
      "pygments_lexer": "ipython3",
      "version": "3.8.3"
    },
    "colab": {
      "name": "Triplets.ipynb",
      "provenance": []
    }
  },
  "cells": [
    {
      "cell_type": "code",
      "metadata": {
        "id": "8s_1O9qy75i-"
      },
      "source": [
        "import re\n",
        "import pandas as pd\n",
        "import bs4\n",
        "import requests\n",
        "import spacy\n",
        "from spacy import displacy\n",
        "nlp = spacy.load('en_core_web_sm')\n",
        "\n",
        "from spacy.matcher import Matcher \n",
        "from spacy.tokens import Span \n",
        "\n",
        "import networkx as nx\n",
        "\n",
        "import matplotlib.pyplot as plt\n",
        "from tqdm import tqdm\n",
        "\n",
        "pd.set_option('display.max_colwidth', 200)\n",
        "%matplotlib inline"
      ],
      "execution_count": null,
      "outputs": []
    },
    {
      "cell_type": "code",
      "metadata": {
        "id": "lq_E3fRC75jD"
      },
      "source": [
        "# sample sentences\n",
        "candidate_sentences = \"the drawdown process is governed by astm standard d823\"\n",
        "doc = nlp(candidate_sentences)"
      ],
      "execution_count": null,
      "outputs": []
    },
    {
      "cell_type": "code",
      "metadata": {
        "id": "rZ7m4yYQ75jE",
        "outputId": "6d4a7a52-cfd1-4edb-f389-1c9341bb9667"
      },
      "source": [
        "for tok in doc:\n",
        "    print(tok.text, \"...\", tok.dep_)"
      ],
      "execution_count": null,
      "outputs": [
        {
          "output_type": "stream",
          "text": [
            "the ... det\n",
            "drawdown ... amod\n",
            "process ... nsubjpass\n",
            "is ... auxpass\n",
            "governed ... ROOT\n",
            "by ... agent\n",
            "astm ... compound\n",
            "standard ... amod\n",
            "d823 ... pobj\n"
          ],
          "name": "stdout"
        }
      ]
    },
    {
      "cell_type": "markdown",
      "metadata": {
        "id": "kKcQAvnb75jF"
      },
      "source": [
        "### Entity Pairs Extraction"
      ]
    },
    {
      "cell_type": "code",
      "metadata": {
        "id": "2aDvKXVO75jF"
      },
      "source": [
        "def get_entities(sent):\n",
        "  ## chunk 1\n",
        "  ent1 = \"\"\n",
        "  ent2 = \"\"\n",
        "\n",
        "  prv_tok_dep = \"\"    # dependency tag of previous token in the sentence\n",
        "  prv_tok_text = \"\"   # previous token in the sentence\n",
        "\n",
        "  prefix = \"\"\n",
        "  modifier = \"\"\n",
        "\n",
        "  #############################################################\n",
        "  \n",
        "  for tok in nlp(sent):\n",
        "    ## chunk 2\n",
        "    # if token is a punctuation mark then move on to the next token\n",
        "    if tok.dep_ != \"punct\":\n",
        "      # check: token is a compound word or not\n",
        "      if tok.dep_ == \"compound\":\n",
        "        prefix = tok.text\n",
        "        # if the previous word was also a 'compound' then add the current word to it\n",
        "        if prv_tok_dep == \"compound\":\n",
        "          prefix = prv_tok_text + \" \"+ tok.text\n",
        "      \n",
        "      # check: token is a modifier or not\n",
        "      if tok.dep_.endswith(\"mod\") == True:\n",
        "        modifier = tok.text\n",
        "        # if the previous word was also a 'compound' then add the current word to it\n",
        "        if prv_tok_dep == \"compound\":\n",
        "          modifier = prv_tok_text + \" \"+ tok.text\n",
        "      \n",
        "      ## chunk 3\n",
        "      if tok.dep_.find(\"subj\") == True:\n",
        "        ent1 = modifier +\" \"+ prefix + \" \"+ tok.text\n",
        "        prefix = \"\"\n",
        "        modifier = \"\"\n",
        "        prv_tok_dep = \"\"\n",
        "        prv_tok_text = \"\"      \n",
        "\n",
        "      ## chunk 4\n",
        "      if tok.dep_.find(\"obj\") == True:\n",
        "        ent2 = modifier +\" \"+ prefix +\" \"+ tok.text\n",
        "        \n",
        "      ## chunk 5  \n",
        "      # update variables\n",
        "      prv_tok_dep = tok.dep_\n",
        "      prv_tok_text = tok.text\n",
        "  #############################################################\n",
        "\n",
        "  return [ent1.strip(), ent2.strip()]"
      ],
      "execution_count": null,
      "outputs": []
    },
    {
      "cell_type": "code",
      "metadata": {
        "id": "diFN0zwF75jF",
        "outputId": "068aef98-49fa-4dd6-b2c7-a2e431085e4f"
      },
      "source": [
        "get_entities(\"the film had 200 patents\")"
      ],
      "execution_count": null,
      "outputs": [
        {
          "output_type": "execute_result",
          "data": {
            "text/plain": [
              "['film', '200  patents']"
            ]
          },
          "metadata": {
            "tags": []
          },
          "execution_count": 6
        }
      ]
    },
    {
      "cell_type": "markdown",
      "metadata": {
        "id": "w11aDFvh75jG"
      },
      "source": [
        "### Entity Relation Extraction"
      ]
    },
    {
      "cell_type": "code",
      "metadata": {
        "id": "kFVsb6fi75jG"
      },
      "source": [
        "def get_relation(sent):\n",
        "\n",
        "  doc = nlp(sent)\n",
        "\n",
        "  # Matcher class object \n",
        "  matcher = Matcher(nlp.vocab)\n",
        "\n",
        "  #define the pattern \n",
        "  pattern = [{'DEP':'ROOT'}, \n",
        "            {'DEP':'prep','OP':\"?\"},\n",
        "            {'DEP':'agent','OP':\"?\"},  \n",
        "            {'POS':'ADJ','OP':\"?\"}] \n",
        "\n",
        "  matcher.add(\"matching_1\", None, pattern) \n",
        "\n",
        "  matches = matcher(doc)\n",
        "  k = len(matches) - 1\n",
        "\n",
        "  span = doc[matches[k][1]:matches[k][2]] \n",
        "\n",
        "  return(span.text)"
      ],
      "execution_count": null,
      "outputs": []
    },
    {
      "cell_type": "code",
      "metadata": {
        "id": "j06Y3AKc75jG",
        "outputId": "06ce2ef0-819a-4f46-e2f7-ba657d4ee47b"
      },
      "source": [
        "get_relation(\"John completed the task\")"
      ],
      "execution_count": null,
      "outputs": [
        {
          "output_type": "execute_result",
          "data": {
            "text/plain": [
              "'completed'"
            ]
          },
          "metadata": {
            "tags": []
          },
          "execution_count": 8
        }
      ]
    },
    {
      "cell_type": "markdown",
      "metadata": {
        "id": "TwnM4rXo75jH"
      },
      "source": [
        "### Combining above both for triplets"
      ]
    },
    {
      "cell_type": "markdown",
      "metadata": {
        "id": "CVaPslsY75jH"
      },
      "source": [
        "#### Example:1"
      ]
    },
    {
      "cell_type": "code",
      "metadata": {
        "id": "KfoOz6NG75jH"
      },
      "source": [
        "text=\"John completed the task\""
      ],
      "execution_count": null,
      "outputs": []
    },
    {
      "cell_type": "code",
      "metadata": {
        "id": "ERvyulum75jH"
      },
      "source": [
        "ent=get_entities(text)\n",
        "rel=get_relation(text)"
      ],
      "execution_count": null,
      "outputs": []
    },
    {
      "cell_type": "code",
      "metadata": {
        "id": "qi5TIzux75jH",
        "outputId": "91a2bab9-a8d4-4c66-a2cd-1d2c317efc95"
      },
      "source": [
        "ent"
      ],
      "execution_count": null,
      "outputs": [
        {
          "output_type": "execute_result",
          "data": {
            "text/plain": [
              "['John', 'task']"
            ]
          },
          "metadata": {
            "tags": []
          },
          "execution_count": 31
        }
      ]
    },
    {
      "cell_type": "code",
      "metadata": {
        "id": "a-VmRMhB75jI",
        "outputId": "039e850b-f42c-400f-a40e-537f9ef9f127"
      },
      "source": [
        "new_list=[]\n",
        "if len(ent)==2:\n",
        "    for i,n in enumerate(ent):\n",
        "        #print(i,n)\n",
        "        if i==1:\n",
        "            new_list.append(rel) \n",
        "        else:\n",
        "            new_list.append(n)\n",
        "    new_list.append(ent[1])\n",
        "print(new_list)\n",
        "    "
      ],
      "execution_count": null,
      "outputs": [
        {
          "output_type": "stream",
          "text": [
            "['John', 'completed', 'task']\n"
          ],
          "name": "stdout"
        }
      ]
    },
    {
      "cell_type": "markdown",
      "metadata": {
        "id": "78PNxGpW75jI"
      },
      "source": [
        "#### Example:2"
      ]
    },
    {
      "cell_type": "code",
      "metadata": {
        "id": "fOnX7Mwi75jI",
        "outputId": "6074f8b3-6e6e-4f27-ebf0-db9e2d8679f6"
      },
      "source": [
        "text=\"the drawdown process is governed by astm standard d823\"\n",
        "ent=get_entities(text)\n",
        "rel=get_relation(text)\n",
        "new_list=[]\n",
        "if len(ent)==2:\n",
        "    for i,n in enumerate(ent):\n",
        "        #print(i,n)\n",
        "        if i==1:\n",
        "            new_list.append(rel) \n",
        "        else:\n",
        "            new_list.append(n)\n",
        "    new_list.append(ent[1])\n",
        "print(new_list)"
      ],
      "execution_count": null,
      "outputs": [
        {
          "output_type": "stream",
          "text": [
            "['drawdown  process', 'governed by', 'astm standard astm d823']\n"
          ],
          "name": "stdout"
        }
      ]
    }
  ]
}